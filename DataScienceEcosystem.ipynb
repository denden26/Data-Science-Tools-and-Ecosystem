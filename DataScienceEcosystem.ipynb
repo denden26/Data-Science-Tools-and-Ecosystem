{
 "cells": [
  {
   "cell_type": "markdown",
   "id": "6d7295d3-9972-41a8-8cdb-39922746d095",
   "metadata": {},
   "source": [
    "# Data Science Tools and Ecosystem"
   ]
  },
  {
   "cell_type": "markdown",
   "id": "46fb654f-ff38-4a06-9479-a0f4d9ddc2aa",
   "metadata": {},
   "source": [
    "In this notebook, Data Science Tools and Ecosystem are summarized"
   ]
  },
  {
   "cell_type": "markdown",
   "id": "86c1fe56-2a6a-40ad-b779-df1c94a00ac0",
   "metadata": {
    "tags": []
   },
   "source": [
    "## Objectives\n",
    "\n",
    "- List popular languages for Data Science\n",
    "- List populat libraries for Data Science\n",
    "- List popular development environments used in Data Science\n",
    "- Create code and markdown cells in Jupyter Notebook\n",
    "- Write simple arithmetic operations in Jupyter Notebook"
   ]
  },
  {
   "cell_type": "markdown",
   "id": "f833e534-67e2-4b7b-b74d-2cda871cee30",
   "metadata": {},
   "source": [
    "Some of the popular languages that Data Scientists use are:\n",
    "\n",
    "1. Python\n",
    "2. SQL\n",
    "3. R"
   ]
  },
  {
   "cell_type": "markdown",
   "id": "3ed1b512-7c8e-4811-816b-59364702fefc",
   "metadata": {},
   "source": [
    "Some of the commonly used libraries used by Data Scientists include:\n",
    "\n",
    "1. pandas\n",
    "2. numpy\n",
    "3. matplotlib\n",
    "4. scikit-learn\n",
    "5. keras\n",
    "6. tensorflow\n",
    "7. pytorch\n",
    "8. seaborn"
   ]
  },
  {
   "cell_type": "markdown",
   "id": "05c7f1ec-f0ec-4cb5-a882-9bc925ee4284",
   "metadata": {},
   "source": [
    "| Data Science Tools |\n",
    "| ------------------ |\n",
    "| Jupyter Notebook   |\n",
    "| Jupyter Lab        |\n",
    "| RStudio            |\n",
    "| Google Colab       |\n",
    "| Vs Code            |\n",
    "| Dbeaver            |"
   ]
  },
  {
   "cell_type": "markdown",
   "id": "50f615fc-7ded-4436-afc3-23c310a539e2",
   "metadata": {},
   "source": [
    "### Below are a few examples of evaluating arithmetic expressions in Python"
   ]
  },
  {
   "cell_type": "code",
   "execution_count": 3,
   "id": "34e876e4-9767-4976-ba05-7fec59457243",
   "metadata": {},
   "outputs": [
    {
     "data": {
      "text/plain": [
       "17"
      ]
     },
     "execution_count": 3,
     "metadata": {},
     "output_type": "execute_result"
    }
   ],
   "source": [
    "## This a simple arithmetic expression to mutiply then add integers\n",
    "\n",
    "(3*4)+5"
   ]
  },
  {
   "cell_type": "code",
   "execution_count": 4,
   "id": "4495638f-170c-4297-88df-748c2f5df354",
   "metadata": {},
   "outputs": [
    {
     "data": {
      "text/plain": [
       "3.3333333333333335"
      ]
     },
     "execution_count": 4,
     "metadata": {},
     "output_type": "execute_result"
    }
   ],
   "source": [
    "## This will convert 200 minutes to hours by diving by 60\n",
    "\n",
    "200/60"
   ]
  },
  {
   "cell_type": "markdown",
   "id": "d05b791c-749b-4d53-807c-4637fd02508d",
   "metadata": {},
   "source": [
    "## Author\n",
    "\n",
    "Denden Dilah Al-zikri"
   ]
  }
 ],
 "metadata": {
  "kernelspec": {
   "display_name": "Python 3 (ipykernel)",
   "language": "python",
   "name": "python3"
  },
  "language_info": {
   "codemirror_mode": {
    "name": "ipython",
    "version": 3
   },
   "file_extension": ".py",
   "mimetype": "text/x-python",
   "name": "python",
   "nbconvert_exporter": "python",
   "pygments_lexer": "ipython3",
   "version": "3.9.13"
  }
 },
 "nbformat": 4,
 "nbformat_minor": 5
}
